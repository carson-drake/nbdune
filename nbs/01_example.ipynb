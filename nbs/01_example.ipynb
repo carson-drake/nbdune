{
 "cells": [
  {
   "cell_type": "code",
   "execution_count": null,
   "metadata": {},
   "outputs": [],
   "source": [
    "#default_exp example\n",
    "from nbdev.showdoc import show_doc"
   ]
  },
  {
   "cell_type": "markdown",
   "metadata": {},
   "source": [
    "# Example `.ipynb`"
   ]
  },
  {
   "cell_type": "markdown",
   "metadata": {},
   "source": [
    "This notebook is an example of simple `markdown` cells being used as a descriptive page.\n",
    "\n",
    "$\n",
    "\\begin{CD}\n",
    "   A @>a>> B \\\\\n",
    "@VbVV @AAcA \\\\\n",
    "   C @= D\n",
    "\\end{CD}\n",
    "$"
   ]
  },
  {
   "cell_type": "markdown",
   "metadata": {},
   "source": []
  }
 ],
 "metadata": {},
 "nbformat": 4,
 "nbformat_minor": 2
}
